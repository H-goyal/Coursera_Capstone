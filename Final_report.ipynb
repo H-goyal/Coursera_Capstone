{
 "cells": [
  {
   "cell_type": "markdown",
   "metadata": {},
   "source": [
    "# Introduction"
   ]
  },
  {
   "cell_type": "markdown",
   "metadata": {},
   "source": [
    "According to the website [Versus.com](https://versus.com/en/new-york-vs-toronto), **New York city** (of USA) fares well than the **Toronto city** (of Canada) by far.\n",
    "    1. New York city has 2% lower unemployment rate than Toronto (4.3% vs 6.3%)\n",
    "    2. NYC has 1795.98$ higher average salary than Toronto (370.90$ vs 2574.92$)\n",
    "3. NYC has 1094.1$ billion higher GDP (PPP) than Toronto (1280$ billion vs 185.9$ billion)\n",
    "This shows clearly the Toronto city has to undertake some **reforms** (infrastructural, political, economic or social) to atleast come at par with NYC.\n",
    "To this end, the Governor of Toronto created various committees to suggest those reforms. The head of Infra Reforms Committee or the IRC [*Fictional!*] appointed a data analyst, *Mr. Himanshu Goyal* to analyse the data and provide prudent pointers that could be undertaken for the same.\n"
   ]
  },
  {
   "cell_type": "markdown",
   "metadata": {},
   "source": [
    "Thus, the aim of this report is to analyse the data of these two cities, list down the differences, similarities and what all infrastructural changes can be made to the City of Toronto pertaining to the infrastructure at the NYC."
   ]
  },
  {
   "cell_type": "code",
   "execution_count": null,
   "metadata": {},
   "outputs": [],
   "source": []
  },
  {
   "cell_type": "code",
   "execution_count": null,
   "metadata": {},
   "outputs": [],
   "source": []
  },
  {
   "cell_type": "markdown",
   "metadata": {},
   "source": [
    "# Data"
   ]
  },
  {
   "cell_type": "markdown",
   "metadata": {},
   "source": [
    "1. Data for New York City:\n",
    "NYC has total 5 boroughs and 306 neighborhoods. \n",
    "The data set containing the 5 boroughs and the neighborhoods that exist in each borough as well as the the latitude and logitude coordinates of each neighborhood, is available [on the web](https://geo.nyu.edu/catalog/nyu_2451_34572) for free.\n",
    "\n",
    "   This data is being extracted, cleaned and then clustered using KMeans algorithm based on the most common venues each neighborhood possesses. \n",
    "\n"
   ]
  },
  {
   "cell_type": "markdown",
   "metadata": {},
   "source": [
    "2. Data for Toronto City:\n",
    "\n",
    "    For the Toronto neighborhood data, a [Wikipedia page](https://en.wikipedia.org/wiki/List_of_postal_codes_of_Canada:_M) exists that has all the information required to explore and cluster the neighborhoods in Toronto. First this Wikipedia page is being scrapped and the data is wrangled, cleansed and then read it into a pandas dataframe so that it is in a structured format like the New York dataset.\n",
    "    \n",
    "    Once the data is in a structured format, the analysis is replicated.\n"
   ]
  },
  {
   "cell_type": "code",
   "execution_count": null,
   "metadata": {},
   "outputs": [],
   "source": []
  }
 ],
 "metadata": {
  "kernelspec": {
   "display_name": "Python 3",
   "language": "python",
   "name": "python3"
  },
  "language_info": {
   "codemirror_mode": {
    "name": "ipython",
    "version": 3
   },
   "file_extension": ".py",
   "mimetype": "text/x-python",
   "name": "python",
   "nbconvert_exporter": "python",
   "pygments_lexer": "ipython3",
   "version": "3.7.6"
  }
 },
 "nbformat": 4,
 "nbformat_minor": 4
}
